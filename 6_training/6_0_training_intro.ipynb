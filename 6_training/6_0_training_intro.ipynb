{
 "cells": [
  {
   "cell_type": "markdown",
   "metadata": {},
   "source": [
    "# Training  \n",
    "We are ready to train our models."
   ]
  },
  {
   "cell_type": "markdown",
   "metadata": {},
   "source": [
    "We will do so with the following setup:  \n",
    "- 30 epochs;\n",
    "- 5 seeds for robust evaluation;\n",
    "- saving the weights according to the lowest validation loss.  \n",
    "\n",
    "Moreover, as stated before, we will train both models for four configurations: the base case, the base case with hashtag segmentation and two kinds of enrichments, in an ablative fashion:\n",
    "\n",
    "1. **Base Case**: Inputs are simple Embeddings. Hashtags are not segmented.\n",
    "2. **Hashtag Segmentation**: Hashtags are segmented (to continue).\n",
    "3. **Enrichment 1**: Embeddings + Pos Tags Enrichment.\n",
    "4. **Enrichment 2**: Embeddings + Pos Tags Enrichment + Hashtag Enrichment.  \n",
    "\n",
    "For each model and configuration, a notebook with the name `6_k_{model_name}_{configuration}.ipynb` can be in this folder."
   ]
  }
 ],
 "metadata": {
  "language_info": {
   "name": "python"
  }
 },
 "nbformat": 4,
 "nbformat_minor": 2
}
